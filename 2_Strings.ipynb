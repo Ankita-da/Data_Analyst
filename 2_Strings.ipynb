{
  "cells": [
    {
      "cell_type": "markdown",
      "metadata": {
        "id": "view-in-github",
        "colab_type": "text"
      },
      "source": [
        "<a href=\"https://colab.research.google.com/github/Ankita-da/Data_Analyst/blob/main/2_Strings.ipynb\" target=\"_parent\"><img src=\"https://colab.research.google.com/assets/colab-badge.svg\" alt=\"Open In Colab\"/></a>"
      ]
    },
    {
      "cell_type": "code",
      "execution_count": null,
      "id": "e6f14dd9-d46e-4b3a-8ea0-adef4dfccb91",
      "metadata": {
        "id": "e6f14dd9-d46e-4b3a-8ea0-adef4dfccb91"
      },
      "outputs": [],
      "source": [
        "#string is a sequence of character>represent and manipulate textual data\n",
        "#characters are represented using numerical values>> each character is assigned a unique no\n",
        "#ASCII (7 bits) and UNICODE (16 bits)>>ascii>>2to power8>>128 character has been encoded whereas utf is 2 to power 16, almost covered every character of every langauage\n",
        "#UTF-8, UTF 16 >> popular encoding schemes for unicode>>widely accepeted in industry\n",
        "#ASCII>>American Standard Code for Information Interchange\n",
        "#UTF(unicode transformation format)"
      ]
    },
    {
      "cell_type": "code",
      "execution_count": null,
      "id": "030b3e96-6ea6-45bb-b34a-da37db5543e8",
      "metadata": {
        "id": "030b3e96-6ea6-45bb-b34a-da37db5543e8",
        "outputId": "c8bc32bd-d19c-4a9b-ecea-fb6ce9939ecc"
      },
      "outputs": [
        {
          "data": {
            "text/plain": [
              "65"
            ]
          },
          "execution_count": 2,
          "metadata": {},
          "output_type": "execute_result"
        }
      ],
      "source": [
        "#ASCII representation\n",
        "char = \"A\"\n",
        "ord(char) #ord>>ordinal, means what is numerical order of character"
      ]
    },
    {
      "cell_type": "code",
      "execution_count": null,
      "id": "a527fb41-475a-418e-a9ad-a22daf531593",
      "metadata": {
        "id": "a527fb41-475a-418e-a9ad-a22daf531593",
        "outputId": "5e1c5798-d253-4179-b245-2ac6f6f282cc"
      },
      "outputs": [
        {
          "data": {
            "text/plain": [
              "'A'"
            ]
          },
          "execution_count": 4,
          "metadata": {},
          "output_type": "execute_result"
        }
      ],
      "source": [
        "chr(65) #character>> give the character corresponding to that no"
      ]
    },
    {
      "cell_type": "code",
      "execution_count": null,
      "id": "7fadbc44-c202-4b97-a043-f1125276c076",
      "metadata": {
        "id": "7fadbc44-c202-4b97-a043-f1125276c076",
        "outputId": "0beba224-342a-43d5-b985-dfe57149718a"
      },
      "outputs": [
        {
          "data": {
            "text/plain": [
              "97"
            ]
          },
          "execution_count": 5,
          "metadata": {},
          "output_type": "execute_result"
        }
      ],
      "source": [
        "ord(\"a\")"
      ]
    },
    {
      "cell_type": "code",
      "execution_count": null,
      "id": "98142822-0a57-4cad-ad14-45c586d75c47",
      "metadata": {
        "id": "98142822-0a57-4cad-ad14-45c586d75c47",
        "outputId": "870da569-39a8-4807-df34-3c2a8f6a55d1"
      },
      "outputs": [
        {
          "data": {
            "text/plain": [
              "'a'"
            ]
          },
          "execution_count": 6,
          "metadata": {},
          "output_type": "execute_result"
        }
      ],
      "source": [
        "chr(97)"
      ]
    },
    {
      "cell_type": "code",
      "execution_count": null,
      "id": "edc30be2-5889-45f4-bae1-e93a4dcf6840",
      "metadata": {
        "id": "edc30be2-5889-45f4-bae1-e93a4dcf6840",
        "outputId": "609e417f-82e3-43b0-92a8-ad539d1f105c"
      },
      "outputs": [
        {
          "data": {
            "text/plain": [
              "'B'"
            ]
          },
          "execution_count": 7,
          "metadata": {},
          "output_type": "execute_result"
        }
      ],
      "source": [
        "chr(66)"
      ]
    },
    {
      "cell_type": "code",
      "execution_count": null,
      "id": "d8eb2bc4-d085-4310-8a38-c9c4cf9b1094",
      "metadata": {
        "id": "d8eb2bc4-d085-4310-8a38-c9c4cf9b1094",
        "outputId": "397297cf-42d4-4df1-d7e9-2ffd9989ea91"
      },
      "outputs": [
        {
          "data": {
            "text/plain": [
              "66"
            ]
          },
          "execution_count": 9,
          "metadata": {},
          "output_type": "execute_result"
        }
      ],
      "source": [
        "ord(\"B\")"
      ]
    },
    {
      "cell_type": "code",
      "execution_count": null,
      "id": "c092f5ac-efbb-462a-ad7e-62d5f6d76ed1",
      "metadata": {
        "id": "c092f5ac-efbb-462a-ad7e-62d5f6d76ed1"
      },
      "outputs": [],
      "source": [
        "#UNICODE REPRESENTATION\n",
        "#Omega"
      ]
    },
    {
      "cell_type": "code",
      "execution_count": null,
      "id": "4d7bae21-1a52-41cf-a080-ab2293fdf26b",
      "metadata": {
        "id": "4d7bae21-1a52-41cf-a080-ab2293fdf26b",
        "outputId": "c0287242-c4e0-47cf-d3a9-62e12e9861c1"
      },
      "outputs": [
        {
          "data": {
            "text/plain": [
              "'Ω'"
            ]
          },
          "execution_count": 11,
          "metadata": {},
          "output_type": "execute_result"
        }
      ],
      "source": [
        "'\\u03A9'"
      ]
    },
    {
      "cell_type": "code",
      "execution_count": null,
      "id": "31c7b63c-5c3c-4f81-b143-9f2b96fa8fd9",
      "metadata": {
        "id": "31c7b63c-5c3c-4f81-b143-9f2b96fa8fd9",
        "outputId": "675e09cf-c27b-428b-aa5f-3bf47731ca0a"
      },
      "outputs": [
        {
          "data": {
            "text/plain": [
              "'Σ'"
            ]
          },
          "execution_count": 12,
          "metadata": {},
          "output_type": "execute_result"
        }
      ],
      "source": [
        "'\\u03A3'"
      ]
    },
    {
      "cell_type": "code",
      "execution_count": null,
      "id": "e1d275a3-c86b-474e-92a8-6ee390c0122c",
      "metadata": {
        "id": "e1d275a3-c86b-474e-92a8-6ee390c0122c",
        "outputId": "366b9c32-fb96-4f38-a4a5-8868585075d8"
      },
      "outputs": [
        {
          "data": {
            "text/plain": [
              "'ॳ'"
            ]
          },
          "execution_count": 13,
          "metadata": {},
          "output_type": "execute_result"
        }
      ],
      "source": [
        "'\\u0973'"
      ]
    },
    {
      "cell_type": "code",
      "execution_count": null,
      "id": "2bffe759-27ae-43a5-b667-ed7805369301",
      "metadata": {
        "id": "2bffe759-27ae-43a5-b667-ed7805369301",
        "outputId": "4a02df59-190e-45d8-c46a-27b8c9165fd4"
      },
      "outputs": [
        {
          "data": {
            "text/plain": [
              "'ॴ'"
            ]
          },
          "execution_count": 14,
          "metadata": {},
          "output_type": "execute_result"
        }
      ],
      "source": [
        "'\\u0974'"
      ]
    },
    {
      "cell_type": "code",
      "execution_count": null,
      "id": "db6c5274-63b4-4838-974f-0ee987d916c5",
      "metadata": {
        "id": "db6c5274-63b4-4838-974f-0ee987d916c5",
        "outputId": "445f6e6b-e9dc-4aa2-b841-49223f6fbe7d"
      },
      "outputs": [
        {
          "data": {
            "text/plain": [
              "'ॵ'"
            ]
          },
          "execution_count": 15,
          "metadata": {},
          "output_type": "execute_result"
        }
      ],
      "source": [
        "'\\u0975'"
      ]
    },
    {
      "cell_type": "code",
      "execution_count": null,
      "id": "956d26e2-8d4f-474a-b496-806d13a9db78",
      "metadata": {
        "id": "956d26e2-8d4f-474a-b496-806d13a9db78",
        "outputId": "83386924-47f3-4218-d96f-9d2bd5d43444"
      },
      "outputs": [
        {
          "data": {
            "text/plain": [
              "'Τ'"
            ]
          },
          "execution_count": 16,
          "metadata": {},
          "output_type": "execute_result"
        }
      ],
      "source": [
        "'\\u03A4'"
      ]
    },
    {
      "cell_type": "code",
      "execution_count": null,
      "id": "4fa98116-26b1-4211-954e-d636abf3fbe3",
      "metadata": {
        "id": "4fa98116-26b1-4211-954e-d636abf3fbe3"
      },
      "outputs": [],
      "source": [
        "#strings\n",
        "string1 = \"pwskills\""
      ]
    },
    {
      "cell_type": "code",
      "execution_count": null,
      "id": "3feca7ff-4574-4be8-bec3-f3f7f128e8af",
      "metadata": {
        "id": "3feca7ff-4574-4be8-bec3-f3f7f128e8af"
      },
      "outputs": [],
      "source": [
        "string1 = 'pwskills'"
      ]
    },
    {
      "cell_type": "code",
      "execution_count": null,
      "id": "ae584c23-8b2d-4883-9fb3-81993c33ccfa",
      "metadata": {
        "id": "ae584c23-8b2d-4883-9fb3-81993c33ccfa",
        "outputId": "d5a8f05d-b4e3-4d3d-9861-63ac7a81bd7f"
      },
      "outputs": [
        {
          "data": {
            "text/plain": [
              "'pwskills'"
            ]
          },
          "execution_count": 20,
          "metadata": {},
          "output_type": "execute_result"
        }
      ],
      "source": [
        "string1"
      ]
    },
    {
      "cell_type": "code",
      "execution_count": null,
      "id": "2ac0a540-db65-4a97-b7a7-11dd35963024",
      "metadata": {
        "id": "2ac0a540-db65-4a97-b7a7-11dd35963024",
        "outputId": "852f0893-4f62-4d22-afd7-7c8c4ce57ab4"
      },
      "outputs": [
        {
          "data": {
            "text/plain": [
              "str"
            ]
          },
          "execution_count": 22,
          "metadata": {},
          "output_type": "execute_result"
        }
      ],
      "source": [
        "type(string1)"
      ]
    },
    {
      "cell_type": "code",
      "execution_count": null,
      "id": "de64a8ec-9be7-4a55-9d28-6b235ae0e278",
      "metadata": {
        "id": "de64a8ec-9be7-4a55-9d28-6b235ae0e278",
        "outputId": "672a53d5-1405-4229-cc1a-2e7287c3a703"
      },
      "outputs": [
        {
          "data": {
            "text/plain": [
              "'pwskills'"
            ]
          },
          "execution_count": 23,
          "metadata": {},
          "output_type": "execute_result"
        }
      ],
      "source": [
        "'pwskills'"
      ]
    },
    {
      "cell_type": "code",
      "execution_count": null,
      "id": "ecb65bac-37e9-41af-89f5-b757a76d9e08",
      "metadata": {
        "id": "ecb65bac-37e9-41af-89f5-b757a76d9e08",
        "outputId": "6e21eceb-3cb1-49de-d920-76a4b28a854a"
      },
      "outputs": [
        {
          "data": {
            "text/plain": [
              "\"I'm a student\""
            ]
          },
          "execution_count": 25,
          "metadata": {},
          "output_type": "execute_result"
        }
      ],
      "source": [
        "\"I'm a student\""
      ]
    },
    {
      "cell_type": "code",
      "execution_count": null,
      "id": "e8c28a6e-ed4e-4121-bed3-a2c8fdb0a1a5",
      "metadata": {
        "id": "e8c28a6e-ed4e-4121-bed3-a2c8fdb0a1a5",
        "outputId": "a0cb2f1d-f547-4b22-c44a-86d08b8f9dd4"
      },
      "outputs": [
        {
          "ename": "SyntaxError",
          "evalue": "unterminated string literal (detected at line 1) (1373017057.py, line 1)",
          "output_type": "error",
          "traceback": [
            "\u001b[0;36m  Cell \u001b[0;32mIn[27], line 1\u001b[0;36m\u001b[0m\n\u001b[0;31m    \"I'm a student #it will give you error\u001b[0m\n\u001b[0m    ^\u001b[0m\n\u001b[0;31mSyntaxError\u001b[0m\u001b[0;31m:\u001b[0m unterminated string literal (detected at line 1)\n"
          ]
        }
      ],
      "source": [
        "#it will give you error\n",
        "\"I'm a student"
      ]
    },
    {
      "cell_type": "code",
      "execution_count": null,
      "id": "7c28c664-e39b-41af-a619-787180f21874",
      "metadata": {
        "id": "7c28c664-e39b-41af-a619-787180f21874",
        "outputId": "854c735e-d765-4731-9093-577cbed9ea3a"
      },
      "outputs": [
        {
          "data": {
            "text/plain": [
              "'I\"m a student'"
            ]
          },
          "execution_count": 30,
          "metadata": {},
          "output_type": "execute_result"
        }
      ],
      "source": [
        "\"\"\"I\"m a student\"\"\""
      ]
    },
    {
      "cell_type": "code",
      "execution_count": null,
      "id": "0d7cffc2-11c7-4b0b-87a1-ca381dca6992",
      "metadata": {
        "id": "0d7cffc2-11c7-4b0b-87a1-ca381dca6992",
        "outputId": "453d5a89-90c2-4743-ba74-50e696a20a6c"
      },
      "outputs": [
        {
          "data": {
            "text/plain": [
              "'I\"m a student'"
            ]
          },
          "execution_count": 31,
          "metadata": {},
          "output_type": "execute_result"
        }
      ],
      "source": [
        "'''I\"m a student'''"
      ]
    },
    {
      "cell_type": "code",
      "execution_count": null,
      "id": "b9b4599d-8e31-4826-a671-e321a0de544c",
      "metadata": {
        "id": "b9b4599d-8e31-4826-a671-e321a0de544c",
        "outputId": "a04ea5b8-0721-43b7-d4c6-bacf280f2977"
      },
      "outputs": [
        {
          "data": {
            "text/plain": [
              "'I\"m a student\\nI study in pwskills\\nI am a data scientist'"
            ]
          },
          "execution_count": 32,
          "metadata": {},
          "output_type": "execute_result"
        }
      ],
      "source": [
        "'''I\"m a student\n",
        "I study in pwskills\n",
        "I am a data scientist'''"
      ]
    },
    {
      "cell_type": "code",
      "execution_count": null,
      "id": "9a65c6d1-ede9-40a6-88d0-9cc05fe669f6",
      "metadata": {
        "id": "9a65c6d1-ede9-40a6-88d0-9cc05fe669f6"
      },
      "outputs": [],
      "source": [
        "#concatenation of string>> combination of two string"
      ]
    },
    {
      "cell_type": "code",
      "execution_count": null,
      "id": "38c4e8e6-a149-4eee-a048-f619c80da643",
      "metadata": {
        "id": "38c4e8e6-a149-4eee-a048-f619c80da643",
        "outputId": "76034b5d-f898-4d4a-85d0-b39843608461"
      },
      "outputs": [
        {
          "data": {
            "text/plain": [
              "'Hello world'"
            ]
          },
          "execution_count": 35,
          "metadata": {},
          "output_type": "execute_result"
        }
      ],
      "source": [
        "\"Hello\" + \" world\""
      ]
    },
    {
      "cell_type": "code",
      "execution_count": null,
      "id": "ded29dff-87e5-470a-8e0c-9151c8084c00",
      "metadata": {
        "id": "ded29dff-87e5-470a-8e0c-9151c8084c00",
        "outputId": "b1c92cef-3db2-42e7-f2f3-d7660ab98b0f"
      },
      "outputs": [
        {
          "ename": "TypeError",
          "evalue": "unsupported operand type(s) for -: 'str' and 'str'",
          "output_type": "error",
          "traceback": [
            "\u001b[0;31m---------------------------------------------------------------------------\u001b[0m",
            "\u001b[0;31mTypeError\u001b[0m                                 Traceback (most recent call last)",
            "Cell \u001b[0;32mIn[36], line 1\u001b[0m\n\u001b[0;32m----> 1\u001b[0m \u001b[38;5;124;43m\"\u001b[39;49m\u001b[38;5;124;43mHello\u001b[39;49m\u001b[38;5;124;43m\"\u001b[39;49m\u001b[43m \u001b[49m\u001b[38;5;241;43m-\u001b[39;49m\u001b[43m \u001b[49m\u001b[38;5;124;43m\"\u001b[39;49m\u001b[38;5;124;43m world\u001b[39;49m\u001b[38;5;124;43m\"\u001b[39;49m\n",
            "\u001b[0;31mTypeError\u001b[0m: unsupported operand type(s) for -: 'str' and 'str'"
          ]
        }
      ],
      "source": [
        "\"Hello\" - \" world\" #it will give you error"
      ]
    },
    {
      "cell_type": "code",
      "execution_count": null,
      "id": "1d50b3b2-803c-4062-957c-61ac5de4ab84",
      "metadata": {
        "id": "1d50b3b2-803c-4062-957c-61ac5de4ab84",
        "outputId": "8483ae26-5d8d-4b3b-ca20-e8409f09a356"
      },
      "outputs": [
        {
          "data": {
            "text/plain": [
              "'hello, world!'"
            ]
          },
          "execution_count": 37,
          "metadata": {},
          "output_type": "execute_result"
        }
      ],
      "source": [
        "string1 = \"hello\"\n",
        "string2 = \"world!\"\n",
        "string1 + \", \"+string2"
      ]
    },
    {
      "cell_type": "code",
      "execution_count": null,
      "id": "cc20bf25-4f45-4feb-beb4-9643f2c24a87",
      "metadata": {
        "id": "cc20bf25-4f45-4feb-beb4-9643f2c24a87",
        "outputId": "f6d8ec73-a147-4882-9d67-82053c21df3b"
      },
      "outputs": [
        {
          "data": {
            "text/plain": [
              "'string>>concatenation'"
            ]
          },
          "execution_count": 38,
          "metadata": {},
          "output_type": "execute_result"
        }
      ],
      "source": [
        "\"string\" + \">>\" +\"concatenation\""
      ]
    },
    {
      "cell_type": "code",
      "execution_count": null,
      "id": "f7b349e8-a309-4313-bcdb-3341e0183a6f",
      "metadata": {
        "id": "f7b349e8-a309-4313-bcdb-3341e0183a6f",
        "outputId": "f1b7007f-d5d6-4f3e-8182-67aa48c12941"
      },
      "outputs": [
        {
          "data": {
            "text/plain": [
              "'string >> concatenation'"
            ]
          },
          "execution_count": 39,
          "metadata": {},
          "output_type": "execute_result"
        }
      ],
      "source": [
        "\"string\" + \" >> \" +\"concatenation\""
      ]
    },
    {
      "cell_type": "code",
      "execution_count": null,
      "id": "07222df5-03f8-4a07-ae58-4d200e23a29b",
      "metadata": {
        "id": "07222df5-03f8-4a07-ae58-4d200e23a29b",
        "outputId": "fb3fe8af-152c-4718-e80f-3a7a1f9ac718"
      },
      "outputs": [
        {
          "data": {
            "text/plain": [
              "'string >$ concatenation'"
            ]
          },
          "execution_count": 40,
          "metadata": {},
          "output_type": "execute_result"
        }
      ],
      "source": [
        "\"string\" + \" >$ \" +\"concatenation\""
      ]
    },
    {
      "cell_type": "code",
      "execution_count": null,
      "id": "32465a84-b286-4a12-ba61-9fedee4a8d1f",
      "metadata": {
        "id": "32465a84-b286-4a12-ba61-9fedee4a8d1f",
        "outputId": "9c18d9da-5393-49e0-d883-a312da0d89cb"
      },
      "outputs": [
        {
          "data": {
            "text/plain": [
              "'A'"
            ]
          },
          "execution_count": 41,
          "metadata": {},
          "output_type": "execute_result"
        }
      ],
      "source": [
        "#Extract/slicing of string\n",
        "a = \"Ajay\"\n",
        "a[0]"
      ]
    },
    {
      "cell_type": "code",
      "execution_count": null,
      "id": "31d01d6e-a51a-4a15-853e-775fdac3d7ec",
      "metadata": {
        "id": "31d01d6e-a51a-4a15-853e-775fdac3d7ec",
        "outputId": "92bd9ed3-1d92-4293-a29f-df62ba8e2db8"
      },
      "outputs": [
        {
          "data": {
            "text/plain": [
              "'j'"
            ]
          },
          "execution_count": 42,
          "metadata": {},
          "output_type": "execute_result"
        }
      ],
      "source": [
        "a[1]"
      ]
    },
    {
      "cell_type": "code",
      "execution_count": null,
      "id": "404f04ec-da3c-4b79-9d36-8f03b15a12fd",
      "metadata": {
        "id": "404f04ec-da3c-4b79-9d36-8f03b15a12fd",
        "outputId": "3b0b40f4-477b-4a45-cb3b-48f5ab8d05d7"
      },
      "outputs": [
        {
          "data": {
            "text/plain": [
              "'y'"
            ]
          },
          "execution_count": 43,
          "metadata": {},
          "output_type": "execute_result"
        }
      ],
      "source": [
        "a[-1]"
      ]
    },
    {
      "cell_type": "code",
      "execution_count": null,
      "id": "50bebb2d-60ac-449e-a115-a5bab9360a76",
      "metadata": {
        "id": "50bebb2d-60ac-449e-a115-a5bab9360a76",
        "outputId": "07f5910e-665a-46f9-de38-5f13d31396eb"
      },
      "outputs": [
        {
          "data": {
            "text/plain": [
              "'y'"
            ]
          },
          "execution_count": 44,
          "metadata": {},
          "output_type": "execute_result"
        }
      ],
      "source": [
        "a[3]"
      ]
    },
    {
      "cell_type": "code",
      "execution_count": null,
      "id": "adbb8adf-2215-4bbe-b062-a9d20cc28f31",
      "metadata": {
        "id": "adbb8adf-2215-4bbe-b062-a9d20cc28f31",
        "outputId": "3928d574-68ec-42dc-8236-f6a866e28138"
      },
      "outputs": [
        {
          "ename": "IndexError",
          "evalue": "string index out of range",
          "output_type": "error",
          "traceback": [
            "\u001b[0;31m---------------------------------------------------------------------------\u001b[0m",
            "\u001b[0;31mIndexError\u001b[0m                                Traceback (most recent call last)",
            "Cell \u001b[0;32mIn[45], line 1\u001b[0m\n\u001b[0;32m----> 1\u001b[0m \u001b[43ma\u001b[49m\u001b[43m[\u001b[49m\u001b[38;5;241;43m4\u001b[39;49m\u001b[43m]\u001b[49m\n",
            "\u001b[0;31mIndexError\u001b[0m: string index out of range"
          ]
        }
      ],
      "source": [
        "a[4] #it will throw an error as 4th index doesnt exist"
      ]
    },
    {
      "cell_type": "code",
      "execution_count": null,
      "id": "2072f896-a6fb-48ef-976a-c770f5336e67",
      "metadata": {
        "id": "2072f896-a6fb-48ef-976a-c770f5336e67",
        "outputId": "44301487-5bfe-468e-f6b6-ae52bd1c7b60"
      },
      "outputs": [
        {
          "data": {
            "text/plain": [
              "'I am'"
            ]
          },
          "execution_count": 46,
          "metadata": {},
          "output_type": "execute_result"
        }
      ],
      "source": [
        "string1 = \"Id  am a goostudent\"\n",
        "string1[0:4] #4 is exclusive [a, b]>>it will give result till b-1 index"
      ]
    },
    {
      "cell_type": "code",
      "execution_count": null,
      "id": "1adc407e-df4d-4d42-a649-b755becd51fd",
      "metadata": {
        "id": "1adc407e-df4d-4d42-a649-b755becd51fd",
        "outputId": "fd581af2-d80b-430a-cd21-5bbbc896e7b5"
      },
      "outputs": [
        {
          "data": {
            "text/plain": [
              "'a good '"
            ]
          },
          "execution_count": 47,
          "metadata": {},
          "output_type": "execute_result"
        }
      ],
      "source": [
        "string1[5:12]"
      ]
    },
    {
      "cell_type": "code",
      "execution_count": null,
      "id": "ab323032-a8d1-49d0-97d4-123a71e72d03",
      "metadata": {
        "id": "ab323032-a8d1-49d0-97d4-123a71e72d03",
        "outputId": "0f1707cd-789d-47e1-f488-faee539cd76e"
      },
      "outputs": [
        {
          "data": {
            "text/plain": [
              "'I am a good student'"
            ]
          },
          "execution_count": 49,
          "metadata": {},
          "output_type": "execute_result"
        }
      ],
      "source": [
        "string1[0:]#start_index:end_index>> if you not provide end idex, it will be default give substring till the last index"
      ]
    },
    {
      "cell_type": "code",
      "execution_count": null,
      "id": "041cfdf7-20ee-4555-a582-e441cef68dd1",
      "metadata": {
        "id": "041cfdf7-20ee-4555-a582-e441cef68dd1",
        "outputId": "6d4766e8-75a7-458b-c63d-b1f39b05c451"
      },
      "outputs": [
        {
          "data": {
            "text/plain": [
              "'m a good student'"
            ]
          },
          "execution_count": 50,
          "metadata": {},
          "output_type": "execute_result"
        }
      ],
      "source": [
        "string1[3:]"
      ]
    },
    {
      "cell_type": "code",
      "execution_count": null,
      "id": "c965d874-8f0f-4e48-a1ea-21280d227275",
      "metadata": {
        "id": "c965d874-8f0f-4e48-a1ea-21280d227275"
      },
      "outputs": [],
      "source": [
        "strings2 = \"pwskills\""
      ]
    },
    {
      "cell_type": "code",
      "execution_count": null,
      "id": "a5277eed-6baa-467e-bf0b-ffa08a9a8293",
      "metadata": {
        "id": "a5277eed-6baa-467e-bf0b-ffa08a9a8293",
        "outputId": "ae454d2c-5efc-42c2-ab52-747a104fa2da"
      },
      "outputs": [
        {
          "data": {
            "text/plain": [
              "'w'"
            ]
          },
          "execution_count": 53,
          "metadata": {},
          "output_type": "execute_result"
        }
      ],
      "source": [
        "strings2[1]"
      ]
    },
    {
      "cell_type": "code",
      "execution_count": null,
      "id": "a0b090f1-5826-42cb-8e1b-36944cbb07e3",
      "metadata": {
        "id": "a0b090f1-5826-42cb-8e1b-36944cbb07e3",
        "outputId": "50a71392-3308-41ca-de57-be2959b26936"
      },
      "outputs": [
        {
          "data": {
            "text/plain": [
              "'s'"
            ]
          },
          "execution_count": 54,
          "metadata": {},
          "output_type": "execute_result"
        }
      ],
      "source": [
        "strings2[-1]"
      ]
    },
    {
      "cell_type": "code",
      "execution_count": null,
      "id": "41b238c9-91fb-4c2f-b845-898e17986ad6",
      "metadata": {
        "id": "41b238c9-91fb-4c2f-b845-898e17986ad6",
        "outputId": "54f1cf92-36c8-4b61-a24a-a5e1b74e0f6a"
      },
      "outputs": [
        {
          "data": {
            "text/plain": [
              "'l'"
            ]
          },
          "execution_count": 55,
          "metadata": {},
          "output_type": "execute_result"
        }
      ],
      "source": [
        "strings2[-2]"
      ]
    },
    {
      "cell_type": "code",
      "execution_count": null,
      "id": "7976db9e-fce1-493c-af69-61ce3047d89b",
      "metadata": {
        "id": "7976db9e-fce1-493c-af69-61ce3047d89b",
        "outputId": "7bd6869d-3768-4cdc-d5a1-a62f7ed2852c"
      },
      "outputs": [
        {
          "data": {
            "text/plain": [
              "'pwskills'"
            ]
          },
          "execution_count": 56,
          "metadata": {},
          "output_type": "execute_result"
        }
      ],
      "source": [
        "strings2"
      ]
    },
    {
      "cell_type": "code",
      "execution_count": null,
      "id": "b28eb7a4-8077-4733-a5b5-41ccb0d92ee1",
      "metadata": {
        "id": "b28eb7a4-8077-4733-a5b5-41ccb0d92ee1",
        "outputId": "85df2df5-ceb2-4f6a-c8e4-3d5990913246"
      },
      "outputs": [
        {
          "data": {
            "text/plain": [
              "'pwski'"
            ]
          },
          "execution_count": 57,
          "metadata": {},
          "output_type": "execute_result"
        }
      ],
      "source": [
        "#except the last three character\n",
        "strings2[:-3]"
      ]
    },
    {
      "cell_type": "code",
      "execution_count": null,
      "id": "a1c506c2-a765-4dfc-be09-93a712396a42",
      "metadata": {
        "id": "a1c506c2-a765-4dfc-be09-93a712396a42",
        "outputId": "961c4f3c-4aa2-418a-d712-9a7d379b00b6"
      },
      "outputs": [
        {
          "data": {
            "text/plain": [
              "'lls'"
            ]
          },
          "execution_count": 59,
          "metadata": {},
          "output_type": "execute_result"
        }
      ],
      "source": [
        "#you want only last characters\n",
        "strings2[-3:]"
      ]
    },
    {
      "cell_type": "code",
      "execution_count": null,
      "id": "1a682a6f-f658-478e-b5f5-98f6325fcbb6",
      "metadata": {
        "id": "1a682a6f-f658-478e-b5f5-98f6325fcbb6"
      },
      "outputs": [],
      "source": [
        "string2 = \"hello world!\""
      ]
    },
    {
      "cell_type": "code",
      "execution_count": null,
      "id": "9d3e4609-f04e-4b37-8f2a-27cec5c19fdd",
      "metadata": {
        "id": "9d3e4609-f04e-4b37-8f2a-27cec5c19fdd",
        "outputId": "6b15c2dc-2c5d-4ef3-c443-bbdb806bdc1d"
      },
      "outputs": [
        {
          "data": {
            "text/plain": [
              "'hello'"
            ]
          },
          "execution_count": 65,
          "metadata": {},
          "output_type": "execute_result"
        }
      ],
      "source": [
        "string2[0:5:1] #by default step is 1"
      ]
    },
    {
      "cell_type": "code",
      "execution_count": null,
      "id": "8d56420a-95eb-4213-bb07-450caf440514",
      "metadata": {
        "id": "8d56420a-95eb-4213-bb07-450caf440514",
        "outputId": "fbd2fa1a-f757-4e29-cd58-edeca33a3aed"
      },
      "outputs": [
        {
          "data": {
            "text/plain": [
              "'hlo'"
            ]
          },
          "execution_count": 66,
          "metadata": {},
          "output_type": "execute_result"
        }
      ],
      "source": [
        "string2[0:5:2]#syntax>> [start:end:step]"
      ]
    },
    {
      "cell_type": "code",
      "execution_count": null,
      "id": "ba814341-36af-48bf-aacf-e1d44ef2c5be",
      "metadata": {
        "id": "ba814341-36af-48bf-aacf-e1d44ef2c5be",
        "outputId": "f877b65c-01a3-4f09-ef8f-30ec68bb53eb"
      },
      "outputs": [
        {
          "data": {
            "text/plain": [
              "'hello world!'"
            ]
          },
          "execution_count": 67,
          "metadata": {},
          "output_type": "execute_result"
        }
      ],
      "source": [
        "string2[::1]"
      ]
    },
    {
      "cell_type": "code",
      "execution_count": null,
      "id": "90aca4e6-aff1-4b79-8c63-47e01f93fc3b",
      "metadata": {
        "id": "90aca4e6-aff1-4b79-8c63-47e01f93fc3b",
        "outputId": "36d1b702-7103-4e27-89f9-24ae04b9e2dc"
      },
      "outputs": [
        {
          "data": {
            "text/plain": [
              "'hlowrd'"
            ]
          },
          "execution_count": 68,
          "metadata": {},
          "output_type": "execute_result"
        }
      ],
      "source": [
        "string2[::2]"
      ]
    },
    {
      "cell_type": "code",
      "execution_count": null,
      "id": "3b314408-2021-4a6e-8a72-c91f1afbf979",
      "metadata": {
        "id": "3b314408-2021-4a6e-8a72-c91f1afbf979",
        "outputId": "df3fe486-09e2-46eb-8e3a-85bcc0f9f731"
      },
      "outputs": [
        {
          "data": {
            "text/plain": [
              "'hello world!'"
            ]
          },
          "execution_count": 69,
          "metadata": {},
          "output_type": "execute_result"
        }
      ],
      "source": [
        "string2"
      ]
    },
    {
      "cell_type": "code",
      "execution_count": null,
      "id": "e2c9dc54-12c9-452b-baa5-740e9e5f87b6",
      "metadata": {
        "id": "e2c9dc54-12c9-452b-baa5-740e9e5f87b6",
        "outputId": "7f49de57-d46c-4644-b880-2921f8283e04"
      },
      "outputs": [
        {
          "data": {
            "text/plain": [
              "'!dlrow olleh'"
            ]
          },
          "execution_count": 70,
          "metadata": {},
          "output_type": "execute_result"
        }
      ],
      "source": [
        " #iterate over the sequence in reverse order\n",
        "#it means start from the end, move to beginning an dstep backwards by one character\n",
        "string2[::-1]"
      ]
    },
    {
      "cell_type": "code",
      "execution_count": null,
      "id": "64491310-fb49-498f-bf84-41c97748c435",
      "metadata": {
        "id": "64491310-fb49-498f-bf84-41c97748c435"
      },
      "outputs": [],
      "source": [
        "#strings are immuatble"
      ]
    },
    {
      "cell_type": "code",
      "execution_count": null,
      "id": "3c3419d1-1a00-4fa3-9839-7d42c43e49e6",
      "metadata": {
        "id": "3c3419d1-1a00-4fa3-9839-7d42c43e49e6",
        "outputId": "0a9fb7e9-e320-43bf-b138-693226e6153a"
      },
      "outputs": [
        {
          "data": {
            "text/plain": [
              "'p'"
            ]
          },
          "execution_count": 72,
          "metadata": {},
          "output_type": "execute_result"
        }
      ],
      "source": [
        "s = \"pwskills\"\n",
        "s[0]"
      ]
    },
    {
      "cell_type": "code",
      "execution_count": null,
      "id": "1f7e9ec2-7bfb-4c36-9330-02edbf3591f9",
      "metadata": {
        "id": "1f7e9ec2-7bfb-4c36-9330-02edbf3591f9",
        "outputId": "fd52bb2a-84b6-46bc-de06-8f25e3c16c9e"
      },
      "outputs": [
        {
          "ename": "TypeError",
          "evalue": "'str' object does not support item assignment",
          "output_type": "error",
          "traceback": [
            "\u001b[0;31m---------------------------------------------------------------------------\u001b[0m",
            "\u001b[0;31mTypeError\u001b[0m                                 Traceback (most recent call last)",
            "Cell \u001b[0;32mIn[73], line 1\u001b[0m\n\u001b[0;32m----> 1\u001b[0m \u001b[43ms\u001b[49m\u001b[43m[\u001b[49m\u001b[38;5;241;43m0\u001b[39;49m\u001b[43m]\u001b[49m \u001b[38;5;241m=\u001b[39m \u001b[38;5;124m\"\u001b[39m\u001b[38;5;124ma\u001b[39m\u001b[38;5;124m\"\u001b[39m\n",
            "\u001b[0;31mTypeError\u001b[0m: 'str' object does not support item assignment"
          ]
        }
      ],
      "source": [
        "s[0] = \"a\""
      ]
    },
    {
      "cell_type": "code",
      "execution_count": null,
      "id": "95a6ec04-65bb-408f-8211-de45e7e9b807",
      "metadata": {
        "id": "95a6ec04-65bb-408f-8211-de45e7e9b807",
        "outputId": "e7edfde8-fcca-4ae2-cedc-9bcfc16259bf"
      },
      "outputs": [
        {
          "data": {
            "text/plain": [
              "'pwskills'"
            ]
          },
          "execution_count": 74,
          "metadata": {},
          "output_type": "execute_result"
        }
      ],
      "source": [
        "s"
      ]
    },
    {
      "cell_type": "code",
      "execution_count": null,
      "id": "8fb133ff-9de7-43a4-9127-1df711ccb69f",
      "metadata": {
        "id": "8fb133ff-9de7-43a4-9127-1df711ccb69f",
        "outputId": "94511623-77fb-4f3e-c819-6ad3690e489e"
      },
      "outputs": [
        {
          "data": {
            "text/plain": [
              "8"
            ]
          },
          "execution_count": 75,
          "metadata": {},
          "output_type": "execute_result"
        }
      ],
      "source": [
        "#no of characters\n",
        "len(s)"
      ]
    },
    {
      "cell_type": "code",
      "execution_count": null,
      "id": "50816080-11ac-4df5-942a-2dd486631006",
      "metadata": {
        "id": "50816080-11ac-4df5-942a-2dd486631006",
        "outputId": "e609f83e-9ad4-4c79-d2e2-9f30a1b7f015"
      },
      "outputs": [
        {
          "data": {
            "text/plain": [
              "14"
            ]
          },
          "execution_count": 76,
          "metadata": {},
          "output_type": "execute_result"
        }
      ],
      "source": [
        "s = \"I am a student\"\n",
        "len(s)"
      ]
    },
    {
      "cell_type": "code",
      "execution_count": null,
      "id": "07ab17d4-da13-4bbd-afb3-e7a5f0e3fdb0",
      "metadata": {
        "id": "07ab17d4-da13-4bbd-afb3-e7a5f0e3fdb0",
        "outputId": "62a42780-1012-4ec8-fa94-989ef832da2e"
      },
      "outputs": [
        {
          "data": {
            "text/plain": [
              "'I am a teacher'"
            ]
          },
          "execution_count": 79,
          "metadata": {},
          "output_type": "execute_result"
        }
      ],
      "source": [
        "#modification of string\n",
        "s = \"I am a student\"\n",
        "s.replace(\"student\", \"teacher\")"
      ]
    },
    {
      "cell_type": "code",
      "execution_count": null,
      "id": "9e76e736-b717-48f9-94cf-cc74a4c7a080",
      "metadata": {
        "id": "9e76e736-b717-48f9-94cf-cc74a4c7a080",
        "outputId": "05b41821-90b9-4ffb-9673-4cc211d03654"
      },
      "outputs": [
        {
          "data": {
            "text/plain": [
              "'123 suhana apt, marathalli, Banaglore'"
            ]
          },
          "execution_count": 80,
          "metadata": {},
          "output_type": "execute_result"
        }
      ],
      "source": [
        "#use case\n",
        "address = \"123 suhana apt, marathalli, Banaglore\"\n",
        "address"
      ]
    },
    {
      "cell_type": "code",
      "execution_count": null,
      "id": "ed418340-e783-4a40-bd0c-da54bd084ca4",
      "metadata": {
        "id": "ed418340-e783-4a40-bd0c-da54bd084ca4",
        "outputId": "ab833ebf-3514-4638-ca2d-cd6c7e5800ee"
      },
      "outputs": [
        {
          "data": {
            "text/plain": [
              "'123 suhana apartment, marathalli, Banaglore'"
            ]
          },
          "execution_count": 81,
          "metadata": {},
          "output_type": "execute_result"
        }
      ],
      "source": [
        "address.replace(\"apt\", \"apartment\")"
      ]
    },
    {
      "cell_type": "code",
      "execution_count": null,
      "id": "343841bb-7892-460a-a5e5-06f7044f7202",
      "metadata": {
        "id": "343841bb-7892-460a-a5e5-06f7044f7202",
        "outputId": "81a8baa8-87ce-4d45-ffa1-73bb7f412fd1"
      },
      "outputs": [
        {
          "data": {
            "text/plain": [
              "'Be right back, talk to you later, Laughing out loud'"
            ]
          },
          "execution_count": 83,
          "metadata": {},
          "output_type": "execute_result"
        }
      ],
      "source": [
        "text = \"BRB, TTYL, LOL\"\n",
        "text.replace(\"BRB\", \"Be right back\").replace(\"TTYL\",\"talk to you later\").replace(\"LOL\", \"Laughing out loud\")"
      ]
    },
    {
      "cell_type": "code",
      "execution_count": null,
      "id": "67159cd9-38e8-49cd-94b6-7f3dfafc0b6b",
      "metadata": {
        "id": "67159cd9-38e8-49cd-94b6-7f3dfafc0b6b",
        "outputId": "bbe706a3-27f3-4319-d9df-a2930b7e58e8"
      },
      "outputs": [
        {
          "data": {
            "text/plain": [
              "'hello world'"
            ]
          },
          "execution_count": 85,
          "metadata": {},
          "output_type": "execute_result"
        }
      ],
      "source": [
        "text = \"Hello World\"\n",
        "text.lower()"
      ]
    },
    {
      "cell_type": "code",
      "execution_count": null,
      "id": "eb08bbcb-1385-4f1a-9656-753bb64c06bb",
      "metadata": {
        "id": "eb08bbcb-1385-4f1a-9656-753bb64c06bb",
        "outputId": "4c9ef95f-5dfb-41a6-c6c3-da0b0c8b9e80"
      },
      "outputs": [
        {
          "data": {
            "text/plain": [
              "'HELLO WORLD'"
            ]
          },
          "execution_count": 86,
          "metadata": {},
          "output_type": "execute_result"
        }
      ],
      "source": [
        "text.upper()"
      ]
    },
    {
      "cell_type": "code",
      "execution_count": null,
      "id": "a84a50b1-22dc-4632-a605-f15998b4f216",
      "metadata": {
        "id": "a84a50b1-22dc-4632-a605-f15998b4f216",
        "outputId": "48749896-aba9-41d0-b214-3a8da4177e31"
      },
      "outputs": [
        {
          "data": {
            "text/plain": [
              "'Hello World'"
            ]
          },
          "execution_count": 87,
          "metadata": {},
          "output_type": "execute_result"
        }
      ],
      "source": [
        "text.title()"
      ]
    },
    {
      "cell_type": "code",
      "execution_count": null,
      "id": "e46dc10e-7415-4350-b072-d31388c3dba7",
      "metadata": {
        "id": "e46dc10e-7415-4350-b072-d31388c3dba7",
        "outputId": "82deb0ee-3705-491a-de2e-cc82a314da5c"
      },
      "outputs": [
        {
          "data": {
            "text/plain": [
              "'i AM A sTUDENT'"
            ]
          },
          "execution_count": 88,
          "metadata": {},
          "output_type": "execute_result"
        }
      ],
      "source": [
        "text = \" Iam a Student\"\n",
        "text.swapcase()"
      ]
    },
    {
      "cell_type": "code",
      "execution_count": null,
      "id": "dcb8a804-1608-423f-ae66-ae5c9133565a",
      "metadata": {
        "id": "dcb8a804-1608-423f-ae66-ae5c9133565a",
        "outputId": "43f1c57c-0d2e-4ef0-b955-967dbde9d296"
      },
      "outputs": [
        {
          "data": {
            "text/plain": [
              "'I am a student'"
            ]
          },
          "execution_count": 89,
          "metadata": {},
          "output_type": "execute_result"
        }
      ],
      "source": [
        "text.capitalize()"
      ]
    },
    {
      "cell_type": "code",
      "execution_count": null,
      "id": "07853dcb-9d25-4a85-9bb5-1783054d035c",
      "metadata": {
        "id": "07853dcb-9d25-4a85-9bb5-1783054d035c",
        "outputId": "99d32344-d480-456b-b208-2a19d0beba65"
      },
      "outputs": [
        {
          "data": {
            "text/plain": [
              "True"
            ]
          },
          "execution_count": 92,
          "metadata": {},
          "output_type": "execute_result"
        }
      ],
      "source": [
        "#string searching\n",
        "sentence = \"I am a student at pwskills\"\n",
        "\"am\" in sentence"
      ]
    },
    {
      "cell_type": "code",
      "execution_count": null,
      "id": "ad290e81-31a2-4ddd-a523-06caf6c87be6",
      "metadata": {
        "id": "ad290e81-31a2-4ddd-a523-06caf6c87be6",
        "outputId": "0440376e-cc9d-4640-d760-958914cfa311"
      },
      "outputs": [
        {
          "name": "stdout",
          "output_type": "stream",
          "text": [
            "Not present\n"
          ]
        }
      ],
      "source": [
        "sentence = \"I am a student at pwskills\"\n",
        "search_word = \"mat\"\n",
        "if search_word in sentence:\n",
        "    print(\"The search word is present\")\n",
        "else:\n",
        "    print(\"Not present\")"
      ]
    },
    {
      "cell_type": "code",
      "execution_count": null,
      "id": "ec65e4db-7c8c-400f-a85d-5f3f8bfdd9dd",
      "metadata": {
        "id": "ec65e4db-7c8c-400f-a85d-5f3f8bfdd9dd",
        "outputId": "00d8c979-cfd5-4bcc-9263-4a283b99b32c"
      },
      "outputs": [
        {
          "name": "stdout",
          "output_type": "stream",
          "text": [
            "valid email\n"
          ]
        }
      ],
      "source": [
        "email = \"ajay123@gmail.com\"\n",
        "if \"@\" in email:\n",
        "    print(\"valid email\")\n",
        "else:\n",
        "    print(\"Invalid email\")"
      ]
    },
    {
      "cell_type": "code",
      "execution_count": null,
      "id": "3e0bbc8e-c6e8-4559-91e9-1a54c51a711f",
      "metadata": {
        "id": "3e0bbc8e-c6e8-4559-91e9-1a54c51a711f",
        "outputId": "4e24b673-46b4-4d25-9ad7-7123de10d98a"
      },
      "outputs": [
        {
          "name": "stdout",
          "output_type": "stream",
          "text": [
            "Its a pdf file\n"
          ]
        }
      ],
      "source": [
        "document = \"some_file.pdf\"\n",
        "if \".pdf\" in document:\n",
        "    print(\"Its a pdf file\")\n",
        "else:\n",
        "    print(\"Not a pdf file\")"
      ]
    },
    {
      "cell_type": "code",
      "execution_count": null,
      "id": "da0c3a16-449b-4aef-9c41-32d205e85119",
      "metadata": {
        "id": "da0c3a16-449b-4aef-9c41-32d205e85119",
        "outputId": "96efb421-ad76-48cc-c3ee-fa9e8bf7f943"
      },
      "outputs": [
        {
          "data": {
            "text/plain": [
              "True"
            ]
          },
          "execution_count": 98,
          "metadata": {},
          "output_type": "execute_result"
        }
      ],
      "source": [
        "#string comparison\n",
        "str1 = \"hello\"\n",
        "str2 = \"hello\"\n",
        "str1 == str2"
      ]
    },
    {
      "cell_type": "code",
      "execution_count": null,
      "id": "3fe1d843-1393-466f-adc6-d517153023be",
      "metadata": {
        "id": "3fe1d843-1393-466f-adc6-d517153023be",
        "outputId": "1871c6ec-c913-48e4-c2d4-849efe9abdc7"
      },
      "outputs": [
        {
          "data": {
            "text/plain": [
              "False"
            ]
          },
          "execution_count": 99,
          "metadata": {},
          "output_type": "execute_result"
        }
      ],
      "source": [
        "str1 = \"Hello\"\n",
        "str2 = \"hello\"\n",
        "str1 == str2"
      ]
    },
    {
      "cell_type": "code",
      "execution_count": null,
      "id": "876975e7-c6bf-4dde-bdea-e62a4fe25a26",
      "metadata": {
        "id": "876975e7-c6bf-4dde-bdea-e62a4fe25a26",
        "outputId": "4322fbe3-04e3-4003-8c84-ab4b0d016723"
      },
      "outputs": [
        {
          "data": {
            "text/plain": [
              "True"
            ]
          },
          "execution_count": 100,
          "metadata": {},
          "output_type": "execute_result"
        }
      ],
      "source": [
        "str1 = \"Hello\"\n",
        "str2 = \"hello\"\n",
        "str1.lower() == str2.lower()"
      ]
    },
    {
      "cell_type": "code",
      "execution_count": null,
      "id": "18198a3b-64b7-4ca9-a8b4-40d3e252fc6e",
      "metadata": {
        "id": "18198a3b-64b7-4ca9-a8b4-40d3e252fc6e",
        "outputId": "0562ad3d-b9d9-4556-b5a7-254de2e4b8f3"
      },
      "outputs": [
        {
          "name": "stdout",
          "output_type": "stream",
          "text": [
            "username is available\n"
          ]
        }
      ],
      "source": [
        "reg_username = [\"pw\", \"PW\", \"pW\"]\n",
        "new_user = \"PW1\"\n",
        "if new_user in reg_username:\n",
        "    print(\"already in use\")\n",
        "else:\n",
        "    print(\"username is available\")"
      ]
    },
    {
      "cell_type": "code",
      "execution_count": null,
      "id": "4ee0f628-5bac-4102-9353-bec43030bc35",
      "metadata": {
        "id": "4ee0f628-5bac-4102-9353-bec43030bc35",
        "outputId": "2d18465d-ceda-4603-ea2f-4bc559bc7abf"
      },
      "outputs": [
        {
          "name": "stdin",
          "output_type": "stream",
          "text": [
            "scan the product code P124\n"
          ]
        },
        {
          "name": "stdout",
          "output_type": "stream",
          "text": [
            "Talk to receptionist\n"
          ]
        }
      ],
      "source": [
        "product_code = \"P123\"\n",
        "scanned_code = input(\"scan the product code\")\n",
        "if product_code == scanned_code:\n",
        "    print(\"The price is 100\")\n",
        "else:\n",
        "    print(\"Talk to receptionist\")"
      ]
    },
    {
      "cell_type": "code",
      "execution_count": null,
      "id": "af5faed8-b887-4081-9026-9b3f6f179d10",
      "metadata": {
        "id": "af5faed8-b887-4081-9026-9b3f6f179d10",
        "outputId": "cb89bbea-79ce-4768-b043-0ec4e6f5700f"
      },
      "outputs": [
        {
          "data": {
            "text/plain": [
              "['Ajay', 'Bijay', 'Sanjay']"
            ]
          },
          "execution_count": 105,
          "metadata": {},
          "output_type": "execute_result"
        }
      ],
      "source": [
        "#STRING ORDERING\n",
        "name = [\"Ajay\", \"Sanjay\", \"Bijay\"]\n",
        "sorted(name)"
      ]
    },
    {
      "cell_type": "code",
      "execution_count": null,
      "id": "fc24547b-4899-46a7-a0b0-730a81332d43",
      "metadata": {
        "id": "fc24547b-4899-46a7-a0b0-730a81332d43",
        "outputId": "03482360-94ce-4488-ebe6-3b07011af05c"
      },
      "outputs": [
        {
          "data": {
            "text/plain": [
              "['Aalishan', 'KKKH', 'Magic', 'Singham']"
            ]
          },
          "execution_count": 106,
          "metadata": {},
          "output_type": "execute_result"
        }
      ],
      "source": [
        "playlist = [\"KKKH\", \"Magic\", \"Singham\", \"Aalishan\"]\n",
        "sorted(playlist)"
      ]
    },
    {
      "cell_type": "code",
      "execution_count": null,
      "id": "c32eb0c6-ac92-488b-a165-6c2ba777a496",
      "metadata": {
        "id": "c32eb0c6-ac92-488b-a165-6c2ba777a496",
        "outputId": "887b4f5d-8e2c-41dc-d147-d8ea5d0bef20"
      },
      "outputs": [
        {
          "data": {
            "text/plain": [
              "'            pwskills       '"
            ]
          },
          "execution_count": 107,
          "metadata": {},
          "output_type": "execute_result"
        }
      ],
      "source": [
        "#common string operations\n",
        "input_str = \"            pwskills       \"\n",
        "input_str"
      ]
    },
    {
      "cell_type": "code",
      "execution_count": null,
      "id": "ac9c6d1f-5ebd-4da7-b8fb-2f57855ba0dd",
      "metadata": {
        "id": "ac9c6d1f-5ebd-4da7-b8fb-2f57855ba0dd",
        "outputId": "c0bd8d98-c721-453a-c452-cc6dbe1780e4"
      },
      "outputs": [
        {
          "data": {
            "text/plain": [
              "'pwskills'"
            ]
          },
          "execution_count": 108,
          "metadata": {},
          "output_type": "execute_result"
        }
      ],
      "source": [
        "input_str.strip()"
      ]
    },
    {
      "cell_type": "code",
      "execution_count": null,
      "id": "1b6f79ae-8d26-4259-960e-12e2825f7730",
      "metadata": {
        "id": "1b6f79ae-8d26-4259-960e-12e2825f7730",
        "outputId": "4c6157f8-ab91-471e-c666-cd4dd7bf5d1b"
      },
      "outputs": [
        {
          "data": {
            "text/plain": [
              "'Apple'"
            ]
          },
          "execution_count": 109,
          "metadata": {},
          "output_type": "execute_result"
        }
      ],
      "source": [
        "row = \"Apple      \"\n",
        "row.strip()"
      ]
    },
    {
      "cell_type": "code",
      "execution_count": null,
      "id": "cb4147d3-4814-434d-b758-55291a4a97f3",
      "metadata": {
        "id": "cb4147d3-4814-434d-b758-55291a4a97f3",
        "outputId": "b49e7781-a5dc-4897-e34f-a16ad727b4cd"
      },
      "outputs": [
        {
          "data": {
            "text/plain": [
              "'Ajay, data science, teacher'"
            ]
          },
          "execution_count": 110,
          "metadata": {},
          "output_type": "execute_result"
        }
      ],
      "source": [
        "#string splitting\n",
        "data = \"Ajay, data science, teacher\"\n",
        "data"
      ]
    },
    {
      "cell_type": "code",
      "execution_count": null,
      "id": "9fb46971-292c-4934-a72e-16b1fd3e3685",
      "metadata": {
        "id": "9fb46971-292c-4934-a72e-16b1fd3e3685"
      },
      "outputs": [],
      "source": [
        "teacher_info = data.split(',')"
      ]
    },
    {
      "cell_type": "code",
      "execution_count": null,
      "id": "fdaecab7-494d-4e9d-a5c0-05ae18f016a3",
      "metadata": {
        "id": "fdaecab7-494d-4e9d-a5c0-05ae18f016a3",
        "outputId": "3f13ff66-65b3-42af-e4c0-3f09fa9eabc2"
      },
      "outputs": [
        {
          "data": {
            "text/plain": [
              "['Ajay', ' data science', ' teacher']"
            ]
          },
          "execution_count": 112,
          "metadata": {},
          "output_type": "execute_result"
        }
      ],
      "source": [
        "teacher_info"
      ]
    },
    {
      "cell_type": "code",
      "execution_count": null,
      "id": "23a65815-c260-4510-974e-154d887e069a",
      "metadata": {
        "id": "23a65815-c260-4510-974e-154d887e069a"
      },
      "outputs": [],
      "source": [
        "name = teacher_info[0]\n",
        "sub = teacher_info[1]\n",
        "des = teacher_info[2]"
      ]
    },
    {
      "cell_type": "code",
      "execution_count": null,
      "id": "763d7535-060a-4b48-988f-4f218f660cfe",
      "metadata": {
        "id": "763d7535-060a-4b48-988f-4f218f660cfe",
        "outputId": "e95802d7-7ad3-4b76-eb76-5fcf0f74eabe"
      },
      "outputs": [
        {
          "data": {
            "text/plain": [
              "'Ajay'"
            ]
          },
          "execution_count": 114,
          "metadata": {},
          "output_type": "execute_result"
        }
      ],
      "source": [
        "name"
      ]
    },
    {
      "cell_type": "code",
      "execution_count": null,
      "id": "17287743-6814-4660-8cb6-c18a68adce91",
      "metadata": {
        "id": "17287743-6814-4660-8cb6-c18a68adce91",
        "outputId": "2ad79106-2a36-4582-d1c5-48ae89a3ac5d"
      },
      "outputs": [
        {
          "data": {
            "text/plain": [
              "' data science'"
            ]
          },
          "execution_count": 115,
          "metadata": {},
          "output_type": "execute_result"
        }
      ],
      "source": [
        "sub"
      ]
    },
    {
      "cell_type": "code",
      "execution_count": null,
      "id": "c49f629f-c843-43f6-a223-32345462f068",
      "metadata": {
        "id": "c49f629f-c843-43f6-a223-32345462f068",
        "outputId": "4f33ceb8-2a81-4c3e-9a06-2e0ee7fd084a"
      },
      "outputs": [
        {
          "data": {
            "text/plain": [
              "' teacher'"
            ]
          },
          "execution_count": 116,
          "metadata": {},
          "output_type": "execute_result"
        }
      ],
      "source": [
        "des"
      ]
    },
    {
      "cell_type": "code",
      "execution_count": null,
      "id": "f231590d-4955-4edb-a656-3fdc3725c736",
      "metadata": {
        "id": "f231590d-4955-4edb-a656-3fdc3725c736",
        "outputId": "d7fd0708-14d3-4d42-e440-ee8e081b9e80"
      },
      "outputs": [
        {
          "data": {
            "text/plain": [
              "'teacher'"
            ]
          },
          "execution_count": 117,
          "metadata": {},
          "output_type": "execute_result"
        }
      ],
      "source": [
        "des.strip()"
      ]
    },
    {
      "cell_type": "code",
      "execution_count": null,
      "id": "5b2eb83c-54f6-4aa5-b0fc-5ae2b64b6ce2",
      "metadata": {
        "id": "5b2eb83c-54f6-4aa5-b0fc-5ae2b64b6ce2"
      },
      "outputs": [],
      "source": [
        "#Escape sequences >> special combination of characters used within a string"
      ]
    },
    {
      "cell_type": "code",
      "execution_count": null,
      "id": "150c081f-1c88-4385-8fbc-a98e36c60eeb",
      "metadata": {
        "id": "150c081f-1c88-4385-8fbc-a98e36c60eeb"
      },
      "outputs": [],
      "source": [
        "address = \"\"\"123, sanmukha villa,\n",
        "marathalii,\n",
        "bangalore\"\"\""
      ]
    },
    {
      "cell_type": "code",
      "execution_count": null,
      "id": "6214b7d7-3e99-4543-beff-af8ab87f4d34",
      "metadata": {
        "id": "6214b7d7-3e99-4543-beff-af8ab87f4d34",
        "outputId": "c7e49362-dd13-4724-87cd-f008ee7f4c46"
      },
      "outputs": [
        {
          "data": {
            "text/plain": [
              "'123, sanmukha villa,\\nmarathalii,\\nbangalore'"
            ]
          },
          "execution_count": 120,
          "metadata": {},
          "output_type": "execute_result"
        }
      ],
      "source": [
        "address"
      ]
    },
    {
      "cell_type": "code",
      "execution_count": null,
      "id": "2b10a0b4-2468-43a5-9204-e1c16cb91a7a",
      "metadata": {
        "id": "2b10a0b4-2468-43a5-9204-e1c16cb91a7a",
        "outputId": "4ad6dc8c-2f47-4f29-c7e7-954d6b6920d3"
      },
      "outputs": [
        {
          "name": "stdout",
          "output_type": "stream",
          "text": [
            "123, sanmukha villa,\n",
            "marathalii,\n",
            "bangalore\n"
          ]
        }
      ],
      "source": [
        "print(address)"
      ]
    },
    {
      "cell_type": "code",
      "execution_count": null,
      "id": "f3a0c61f-7311-4177-ae4e-3b6ec6ae76eb",
      "metadata": {
        "id": "f3a0c61f-7311-4177-ae4e-3b6ec6ae76eb"
      },
      "outputs": [],
      "source": [
        "address = \"\"\"123, sanmukha villa,\\nmarathalii, \\nbangalore\"\"\""
      ]
    },
    {
      "cell_type": "code",
      "execution_count": null,
      "id": "b1b8b9e7-0616-45d0-b62b-d72e7a79a888",
      "metadata": {
        "id": "b1b8b9e7-0616-45d0-b62b-d72e7a79a888",
        "outputId": "e552feca-a459-4b46-a3c6-0157b82fb24c"
      },
      "outputs": [
        {
          "name": "stdout",
          "output_type": "stream",
          "text": [
            "123, sanmukha villa,\n",
            "marathalii, \n",
            "bangalore\n"
          ]
        }
      ],
      "source": [
        "print(address) #\\n >> to insert a new line character"
      ]
    },
    {
      "cell_type": "code",
      "execution_count": null,
      "id": "04e409f5-357d-43ab-8a07-e0a14ecc63c1",
      "metadata": {
        "id": "04e409f5-357d-43ab-8a07-e0a14ecc63c1",
        "outputId": "b3d62090-802f-4ddd-83f4-045e85574861"
      },
      "outputs": [
        {
          "name": "stdout",
          "output_type": "stream",
          "text": [
            "Name\tAge\tGrade\n",
            "Ajay\t21\tA\n",
            "Bijay\t22\tA+\n"
          ]
        }
      ],
      "source": [
        "#\\t escape character \\t>> tab\n",
        "table = \"Name\\tAge\\tGrade\\nAjay\\t21\\tA\\nBijay\\t22\\tA+\"\n",
        "print(table)"
      ]
    },
    {
      "cell_type": "code",
      "execution_count": null,
      "id": "63d3d72e-8e60-4d07-afa1-3242c95fedb7",
      "metadata": {
        "id": "63d3d72e-8e60-4d07-afa1-3242c95fedb7",
        "outputId": "f48923ab-fb86-4ddc-f016-f314a401ad1f"
      },
      "outputs": [
        {
          "name": "stdout",
          "output_type": "stream",
          "text": [
            "C:\\USERS\\DOWNLOADS\\FILES.txt\n"
          ]
        }
      ],
      "source": [
        "file_path = \"C:\\\\USERS\\\\DOWNLOADS\\\\FILES.txt\"\n",
        "print(file_path)"
      ]
    },
    {
      "cell_type": "code",
      "execution_count": null,
      "id": "96d26398-ef63-4164-9e08-63dbd51f035f",
      "metadata": {
        "id": "96d26398-ef63-4164-9e08-63dbd51f035f",
        "outputId": "7ecef294-8360-4e99-94c3-f529aa7b846f"
      },
      "outputs": [
        {
          "name": "stdout",
          "output_type": "stream",
          "text": [
            "I can't believe its friday\n"
          ]
        }
      ],
      "source": [
        "#\\' single quote escape\n",
        "str1 = 'I can\\'t believe its friday'\n",
        "print(str1)"
      ]
    },
    {
      "cell_type": "code",
      "execution_count": null,
      "id": "66db2aa7-fa1b-4419-a2ad-a4c7e5af5a0b",
      "metadata": {
        "id": "66db2aa7-fa1b-4419-a2ad-a4c7e5af5a0b",
        "outputId": "e1e8711e-c47e-40da-89fa-1d31947dba43"
      },
      "outputs": [
        {
          "name": "stdout",
          "output_type": "stream",
          "text": [
            "Ajay, I am going to delhi\n"
          ]
        }
      ],
      "source": [
        "#carriage return \\r >> moves the cursor to the beginning of line\n",
        "print(\"Hello, I am \\rAjay, I am going to delhi\")"
      ]
    },
    {
      "cell_type": "code",
      "execution_count": null,
      "id": "e761b453-f8b0-4cdd-8089-6479d5fea2c2",
      "metadata": {
        "id": "e761b453-f8b0-4cdd-8089-6479d5fea2c2",
        "outputId": "0b58c79c-be8f-407d-df30-9fa02a8fddd3"
      },
      "outputs": [
        {
          "name": "stdout",
          "output_type": "stream",
          "text": [
            "My name is Ajay\n"
          ]
        }
      ],
      "source": [
        "#string formatting>> creating string with placeholder for variables\n",
        "print(\"My name is Ajay\")\n",
        "print(\"My name is Bijay\")\n",
        "print(\"My name is Sanjay\")"
      ]
    },
    {
      "cell_type": "code",
      "execution_count": null,
      "id": "60d3f17b-7184-4c51-9403-83cea99950a9",
      "metadata": {
        "id": "60d3f17b-7184-4c51-9403-83cea99950a9",
        "outputId": "be539b46-dec3-4dc8-9429-77126fc31b06"
      },
      "outputs": [
        {
          "name": "stdout",
          "output_type": "stream",
          "text": [
            "hello Bijay, how are you?\n"
          ]
        }
      ],
      "source": [
        "name = \"Bijay\"\n",
        "greetings = f\"hello {name}, how are you?\"\n",
        "print(greetings)"
      ]
    },
    {
      "cell_type": "code",
      "execution_count": null,
      "id": "d4144fc5-710c-4319-972b-b9ce2f09e210",
      "metadata": {
        "id": "d4144fc5-710c-4319-972b-b9ce2f09e210",
        "outputId": "832605d5-2ca9-4fab-fd61-db1729a63044"
      },
      "outputs": [
        {
          "name": "stdout",
          "output_type": "stream",
          "text": [
            "hello Ajay, how are you?\n"
          ]
        }
      ],
      "source": [
        "print(\"hello Ajay, how are you?\")"
      ]
    },
    {
      "cell_type": "code",
      "execution_count": null,
      "id": "d511ce70-a2cc-4230-8122-b1f5eb96a77b",
      "metadata": {
        "id": "d511ce70-a2cc-4230-8122-b1f5eb96a77b",
        "outputId": "d3996836-cd8b-43f1-bf11-f71af09f77cc"
      },
      "outputs": [
        {
          "name": "stdout",
          "output_type": "stream",
          "text": [
            "Hello PW Skills, wish you a wonderful day\n"
          ]
        }
      ],
      "source": [
        "#string formatting\n",
        "name = \"PW Skills\"\n",
        "greeting = \"Hello %s, wish you a wonderful day\"%name\n",
        "print(greeting)"
      ]
    },
    {
      "cell_type": "code",
      "execution_count": null,
      "id": "435643a7-c2ff-4330-a547-425b1874e627",
      "metadata": {
        "id": "435643a7-c2ff-4330-a547-425b1874e627",
        "outputId": "9ceece2d-753c-4d4b-cd06-33089e738e8b"
      },
      "outputs": [
        {
          "name": "stdout",
          "output_type": "stream",
          "text": [
            "Hello, Ajay welcome to Data Science\n"
          ]
        }
      ],
      "source": [
        "#.format\n",
        "template = \"Hello, {} welcome to {}\"\n",
        "message = template.format(\"Ajay\", \"Data Science\")\n",
        "print(message)"
      ]
    },
    {
      "cell_type": "code",
      "execution_count": null,
      "id": "e3cc53d9-2cfd-4eb9-a1c1-f130f7c812bd",
      "metadata": {
        "id": "e3cc53d9-2cfd-4eb9-a1c1-f130f7c812bd",
        "outputId": "889b3d84-bf1c-49de-b017-751c9f77c211"
      },
      "outputs": [
        {
          "data": {
            "text/plain": [
              "'My course is pw data + frontend and its duration is 4 years.'"
            ]
          },
          "execution_count": 140,
          "metadata": {},
          "output_type": "execute_result"
        }
      ],
      "source": [
        "#f string (formatted string literals)\n",
        "course = \"pw data + frontend\"\n",
        "duration = 4\n",
        "f\"My course is {course} and its duration is {duration} years.\""
      ]
    },
    {
      "cell_type": "code",
      "execution_count": null,
      "id": "528c0145-30ad-430d-9caf-7ce85ff253f7",
      "metadata": {
        "id": "528c0145-30ad-430d-9caf-7ce85ff253f7",
        "outputId": "fbe3f03c-daba-42f2-f61b-3995f8c56c1d"
      },
      "outputs": [
        {
          "name": "stdout",
          "output_type": "stream",
          "text": [
            "Hello user, Ajay, Today is 2024-06-03 post.\n"
          ]
        }
      ],
      "source": [
        "user_name = \"Ajay\"\n",
        "post_date = \"2024-06-03\"\n",
        "\n",
        "print(f\"Hello user, {user_name}, Today is {post_date} post.\")"
      ]
    },
    {
      "cell_type": "code",
      "execution_count": null,
      "id": "b16d7b3e-1d98-49a0-a9f7-34b7681b708a",
      "metadata": {
        "id": "b16d7b3e-1d98-49a0-a9f7-34b7681b708a",
        "outputId": "b2b6c033-be8b-4382-9a45-e14eff3f0825"
      },
      "outputs": [
        {
          "data": {
            "text/plain": [
              "'30 is equals to 86.0F'"
            ]
          },
          "execution_count": 142,
          "metadata": {},
          "output_type": "execute_result"
        }
      ],
      "source": [
        "celsius = 30\n",
        "f\"{celsius} is equals to {(celsius * 9/5)+32}F\""
      ]
    },
    {
      "cell_type": "code",
      "execution_count": null,
      "id": "3c4cbb93-e3d0-496f-9c2a-c278ecb2c01d",
      "metadata": {
        "id": "3c4cbb93-e3d0-496f-9c2a-c278ecb2c01d",
        "outputId": "0a9f9d6c-ce27-4abd-bc3f-eb61cd472456"
      },
      "outputs": [
        {
          "data": {
            "text/plain": [
              "True"
            ]
          },
          "execution_count": 143,
          "metadata": {},
          "output_type": "execute_result"
        }
      ],
      "source": [
        "str1 = \"pwskills\"\n",
        "str1.startswith(\"p\")"
      ]
    },
    {
      "cell_type": "code",
      "execution_count": null,
      "id": "992721cb-9784-43e7-bcfa-a047883e4cd5",
      "metadata": {
        "id": "992721cb-9784-43e7-bcfa-a047883e4cd5",
        "outputId": "7388293a-de5d-4b8b-a573-a8ce35386a66"
      },
      "outputs": [
        {
          "data": {
            "text/plain": [
              "True"
            ]
          },
          "execution_count": 144,
          "metadata": {},
          "output_type": "execute_result"
        }
      ],
      "source": [
        "str1 = \"pwskills\"\n",
        "str1.startswith(\"pws\")"
      ]
    },
    {
      "cell_type": "code",
      "execution_count": null,
      "id": "d21578ee-794a-43c9-9bc1-4e7f4d66475f",
      "metadata": {
        "id": "d21578ee-794a-43c9-9bc1-4e7f4d66475f",
        "outputId": "51dc2f64-6f00-4f0b-a1d4-b657b29046e0"
      },
      "outputs": [
        {
          "data": {
            "text/plain": [
              "False"
            ]
          },
          "execution_count": 145,
          "metadata": {},
          "output_type": "execute_result"
        }
      ],
      "source": [
        "str1 = \"pwskills\"\n",
        "str1.startswith(\"aws\")"
      ]
    },
    {
      "cell_type": "code",
      "execution_count": null,
      "id": "e8d95082-43fb-4fff-b6f5-23b07f25effe",
      "metadata": {
        "id": "e8d95082-43fb-4fff-b6f5-23b07f25effe",
        "outputId": "484add6b-a01d-4a36-b36a-28d4e18ddeb3"
      },
      "outputs": [
        {
          "data": {
            "text/plain": [
              "True"
            ]
          },
          "execution_count": 146,
          "metadata": {},
          "output_type": "execute_result"
        }
      ],
      "source": [
        "str1.endswith(\"lls\")"
      ]
    },
    {
      "cell_type": "code",
      "execution_count": null,
      "id": "66123aa0-d02d-4031-bcb8-22da6adcb9e8",
      "metadata": {
        "id": "66123aa0-d02d-4031-bcb8-22da6adcb9e8",
        "outputId": "5111179c-7fed-48c3-e162-731e3536adc4"
      },
      "outputs": [
        {
          "data": {
            "text/plain": [
              "False"
            ]
          },
          "execution_count": 147,
          "metadata": {},
          "output_type": "execute_result"
        }
      ],
      "source": [
        "str1.endswith(\"lly\")"
      ]
    },
    {
      "cell_type": "code",
      "execution_count": null,
      "id": "20973f9a-7177-4934-8d05-cba238841a69",
      "metadata": {
        "id": "20973f9a-7177-4934-8d05-cba238841a69",
        "outputId": "93468d72-cf86-4bbb-cef7-98710df984c3"
      },
      "outputs": [
        {
          "data": {
            "text/plain": [
              "True"
            ]
          },
          "execution_count": 148,
          "metadata": {},
          "output_type": "execute_result"
        }
      ],
      "source": [
        "a = \"123abc\"\n",
        "a.isalnum()"
      ]
    },
    {
      "cell_type": "code",
      "execution_count": null,
      "id": "5cf293ab-88ad-40ee-8043-5464b1bed826",
      "metadata": {
        "id": "5cf293ab-88ad-40ee-8043-5464b1bed826",
        "outputId": "ba12f712-27b7-4d75-c1ab-5b6d0aa72116"
      },
      "outputs": [
        {
          "data": {
            "text/plain": [
              "True"
            ]
          },
          "execution_count": 149,
          "metadata": {},
          "output_type": "execute_result"
        }
      ],
      "source": [
        "a = \"Abs\"\n",
        "a.isalnum()"
      ]
    },
    {
      "cell_type": "code",
      "execution_count": null,
      "id": "44a1a7f5-045c-4dcc-ac09-32bf33ea1460",
      "metadata": {
        "id": "44a1a7f5-045c-4dcc-ac09-32bf33ea1460",
        "outputId": "6567748b-5dcc-44e1-f4d9-1af64c0aad22"
      },
      "outputs": [
        {
          "data": {
            "text/plain": [
              "True"
            ]
          },
          "execution_count": 151,
          "metadata": {},
          "output_type": "execute_result"
        }
      ],
      "source": [
        "a = \"123\"\n",
        "a.isalnum()"
      ]
    },
    {
      "cell_type": "code",
      "execution_count": null,
      "id": "a468210f-4715-412b-9df5-70d1ad0a04e9",
      "metadata": {
        "id": "a468210f-4715-412b-9df5-70d1ad0a04e9",
        "outputId": "f114d2c1-e038-4b47-94ef-a8299697f03a"
      },
      "outputs": [
        {
          "data": {
            "text/plain": [
              "8"
            ]
          },
          "execution_count": 152,
          "metadata": {},
          "output_type": "execute_result"
        }
      ],
      "source": [
        "s = \"pwskills\"\n",
        "len(s)"
      ]
    },
    {
      "cell_type": "code",
      "execution_count": null,
      "id": "ba9dfc51-5eb1-4a58-a723-9bc90da1cdb8",
      "metadata": {
        "id": "ba9dfc51-5eb1-4a58-a723-9bc90da1cdb8",
        "outputId": "05d98cb3-a12a-406d-97f0-890b64a8c58a"
      },
      "outputs": [
        {
          "name": "stdout",
          "output_type": "stream",
          "text": [
            "p\n",
            "w\n",
            "s\n",
            "k\n",
            "i\n",
            "l\n",
            "l\n",
            "s\n",
            "8\n"
          ]
        }
      ],
      "source": [
        "count = 0\n",
        "for i in s:\n",
        "    print(i)\n",
        "    count = count+1\n",
        "print(count)"
      ]
    },
    {
      "cell_type": "code",
      "execution_count": null,
      "id": "13bec54b-4a15-46df-a341-04eb52a70c55",
      "metadata": {
        "id": "13bec54b-4a15-46df-a341-04eb52a70c55",
        "outputId": "0c817df7-ecbe-44f1-edd1-cf2acf07d351"
      },
      "outputs": [
        {
          "data": {
            "text/plain": [
              "8"
            ]
          },
          "execution_count": 154,
          "metadata": {},
          "output_type": "execute_result"
        }
      ],
      "source": [
        "count"
      ]
    },
    {
      "cell_type": "code",
      "execution_count": null,
      "id": "efeb23f4-c7d3-4067-98dc-329e623cacaa",
      "metadata": {
        "id": "efeb23f4-c7d3-4067-98dc-329e623cacaa"
      },
      "outputs": [],
      "source": []
    }
  ],
  "metadata": {
    "kernelspec": {
      "display_name": "Python 3 (ipykernel)",
      "language": "python",
      "name": "python3"
    },
    "language_info": {
      "codemirror_mode": {
        "name": "ipython",
        "version": 3
      },
      "file_extension": ".py",
      "mimetype": "text/x-python",
      "name": "python",
      "nbconvert_exporter": "python",
      "pygments_lexer": "ipython3",
      "version": "3.10.8"
    },
    "colab": {
      "provenance": [],
      "include_colab_link": true
    }
  },
  "nbformat": 4,
  "nbformat_minor": 5
}